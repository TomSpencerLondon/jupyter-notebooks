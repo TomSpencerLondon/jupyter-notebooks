{
 "cells": [
  {
   "cell_type": "markdown",
   "id": "15fc719e-9955-4141-abb3-8685e0e5e4a6",
   "metadata": {},
   "source": [
    "The Euler identity $e^{ix}=\\cos(x)+i\\sin(x)$ can be used to generate trigonometric identities:\n",
    "\n",
    "$e^{i(a+b)}=e^{ia}\\cdot e^{ib}=(\\cos(a)+i\\sin(a))\\cdot(\\cos(b)+i\\sin(b))$\n",
    "\n",
    "Expand RHS to get \n",
    "\n",
    "$e^{ia}\\cdot e^{ib}=(\\cos(a)+i\\sin(a))\\cdot(\\cos(b)+i\\sin(b))=\\cos(a)\\cos(b)-\\sin(a)\\sin(b)+i\\sin(a)\\cos(b)+i\\cos(a)\\sin(b)$\n",
    "\n",
    "Equate $\\cos(a+b)$ with the real part of the expansion and $\\sin(a+b)$ with the imaginary part:\n",
    "\n",
    "$\\cos(a+b)=\\cos(a)\\cos(b)-\\sin(a)\\sin(b)$\n",
    "\n",
    "You can also express $\\sin(x)$ and $\\cos(x)$ in terms of powers of $e$.\n",
    "\n",
    "Remember that $\\sin(x)$ is an odd function and $\\cos(x)$ is even.\n",
    "\n",
    "$e^{ix}=\\cos(x)+i\\sin(x)$ and $e^{-ix}=\\cos(x)-i\\sin(x)$.\n",
    "\n",
    "Add the two identities to get rid of the imaginary terms \n",
    "\n",
    "$e^{ix}+e^{-ix}=2\\cos(x)\\implies \\cos(x)=\\frac{e^{ix}+e^{-ix}}{2}$\n",
    "\n",
    "Substituting in the Euler identity\n",
    "\n",
    "$\\sin(x)=\\frac{1}{i}\\cdot e^{ix}-\\frac{1}{i}\\cdot \\frac{e^{ix}+e^{-ix}}{2} \\implies \\sin(x)= \\frac{e^{ix}-e^{-ix}}{2i}$"
   ]
  },
  {
   "cell_type": "markdown",
   "id": "25d82971-8e04-40ff-a6d9-a8139e7cbad3",
   "metadata": {},
   "source": [
    "Exercise 1: Visualizing Euler's identity\n",
    "\n",
    "Question: Plot the real and imaginary parts of $e^{ix}$ for $x$ ranging from $-π$ to $π$"
   ]
  },
  {
   "cell_type": "code",
   "execution_count": null,
   "id": "9d39118b-780e-4555-9e3f-6c969f47076d",
   "metadata": {},
   "outputs": [],
   "source": []
  }
 ],
 "metadata": {
  "kernelspec": {
   "display_name": "Python 3 (ipykernel)",
   "language": "python",
   "name": "python3"
  },
  "language_info": {
   "codemirror_mode": {
    "name": "ipython",
    "version": 3
   },
   "file_extension": ".py",
   "mimetype": "text/x-python",
   "name": "python",
   "nbconvert_exporter": "python",
   "pygments_lexer": "ipython3",
   "version": "3.12.0"
  }
 },
 "nbformat": 4,
 "nbformat_minor": 5
}
